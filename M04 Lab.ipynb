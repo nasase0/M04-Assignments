{
 "cells": [
  {
   "cell_type": "code",
   "execution_count": null,
   "metadata": {},
   "outputs": [],
   "source": [
    "def hours():\n",
    "    print('Open 9-5 daily')\n",
    "\n",
    "#11.1"
   ]
  },
  {
   "cell_type": "code",
   "execution_count": null,
   "metadata": {},
   "outputs": [],
   "source": [
    "import zoo as menagerie\n",
    "menagerie.hours()\n"
   ]
  },
  {
   "cell_type": "code",
   "execution_count": null,
   "metadata": {},
   "outputs": [],
   "source": [
    "# Import sqlalchemy\n",
    "from sqlalchemy import create_engine, Table, Column, MetaData, String, Integer, select\n",
    "\n",
    "engine = create_engine('sqlite:///books.db')\n",
    "\n",
    "connection = engine.connect()\n",
    "\n",
    "metadata = MetaData()\n",
    "book = Table('book', metadata,\n",
    "             Column('title', String),\n",
    "             Column('author', String),\n",
    "             Column('year', Integer))\n",
    "\n",
    "query = select([book.c.title]).order_by(book.c.title)\n",
    "\n",
    "results = connection.execute(query).fetchall()\n",
    "\n",
    "for result in results:\n",
    "    print(result.title)\n",
    "\n",
    "connection.close()\n"
   ]
  }
 ],
 "metadata": {
  "kernelspec": {
   "display_name": "Python 3",
   "language": "python",
   "name": "python3"
  },
  "language_info": {
   "codemirror_mode": {
    "name": "ipython",
    "version": 3
   },
   "file_extension": ".py",
   "mimetype": "text/x-python",
   "name": "python",
   "nbconvert_exporter": "python",
   "pygments_lexer": "ipython3",
   "version": "3.12.2"
  }
 },
 "nbformat": 4,
 "nbformat_minor": 2
}
